{
  "nbformat": 4,
  "nbformat_minor": 0,
  "metadata": {
    "colab": {
      "provenance": [],
      "include_colab_link": true
    },
    "kernelspec": {
      "name": "python3",
      "display_name": "Python 3"
    },
    "language_info": {
      "name": "python"
    }
  },
  "cells": [
    {
      "cell_type": "markdown",
      "metadata": {
        "id": "view-in-github",
        "colab_type": "text"
      },
      "source": [
        "<a href=\"https://colab.research.google.com/github/Dstratigou/Askhsh/blob/main/stratigou_ask5_en2_3.ipynb\" target=\"_parent\"><img src=\"https://colab.research.google.com/assets/colab-badge.svg\" alt=\"Open In Colab\"/></a>"
      ]
    },
    {
      "cell_type": "code",
      "source": [
        "#εισαγωγή βιβλιοθηκών - πακέτων\n",
        "import pandas as pd\n",
        "from sklearn.model_selection import train_test_split\n",
        "from sklearn.preprocessing import StandardScaler, OneHotEncoder\n",
        "from sklearn.ensemble import RandomForestClassifier\n",
        "from sklearn.metrics import accuracy_score, classification_report\n",
        "from imblearn.over_sampling import SMOTENC\n",
        "from imblearn.pipeline import Pipeline as ImbPipeline\n",
        "from sklearn.compose import ColumnTransformer\n",
        "import requests\n",
        "from io import BytesIO\n",
        "import gzip\n",
        "import numpy as np"
      ],
      "metadata": {
        "id": "JcMV5t41LDi7",
        "outputId": "d27189a3-3e59-4149-f3fb-db20476df0b0",
        "colab": {
          "base_uri": "https://localhost:8080/",
          "height": 394
        }
      },
      "execution_count": null,
      "outputs": [
        {
          "output_type": "error",
          "ename": "ModuleNotFoundError",
          "evalue": "No module named 'models'",
          "traceback": [
            "\u001b[0;31m---------------------------------------------------------------------------\u001b[0m",
            "\u001b[0;31mModuleNotFoundError\u001b[0m                       Traceback (most recent call last)",
            "\u001b[0;32m<ipython-input-2-04d4e93ccc0c>\u001b[0m in \u001b[0;36m<cell line: 25>\u001b[0;34m()\u001b[0m\n\u001b[1;32m     23\u001b[0m \u001b[0;32mfrom\u001b[0m \u001b[0mtensorflow\u001b[0m\u001b[0;34m.\u001b[0m\u001b[0mkeras\u001b[0m\u001b[0;34m.\u001b[0m\u001b[0mutils\u001b[0m \u001b[0;32mimport\u001b[0m \u001b[0mto_categorical\u001b[0m\u001b[0;34m\u001b[0m\u001b[0;34m\u001b[0m\u001b[0m\n\u001b[1;32m     24\u001b[0m \u001b[0;32mfrom\u001b[0m \u001b[0msklearn\u001b[0m\u001b[0;34m.\u001b[0m\u001b[0mutils\u001b[0m \u001b[0;32mimport\u001b[0m \u001b[0mclass_weight\u001b[0m\u001b[0;34m\u001b[0m\u001b[0;34m\u001b[0m\u001b[0m\n\u001b[0;32m---> 25\u001b[0;31m \u001b[0;32mfrom\u001b[0m \u001b[0mmodels\u001b[0m \u001b[0;32mimport\u001b[0m \u001b[0mmodels_ddos\u001b[0m\u001b[0;34m\u001b[0m\u001b[0;34m\u001b[0m\u001b[0m\n\u001b[0m\u001b[1;32m     26\u001b[0m \u001b[0;34m\u001b[0m\u001b[0m\n\u001b[1;32m     27\u001b[0m \u001b[0;34m\u001b[0m\u001b[0m\n",
            "\u001b[0;31mModuleNotFoundError\u001b[0m: No module named 'models'",
            "",
            "\u001b[0;31m---------------------------------------------------------------------------\u001b[0;32m\nNOTE: If your import is failing due to a missing package, you can\nmanually install dependencies using either !pip or !apt.\n\nTo view examples of installing some common dependencies, click the\n\"Open Examples\" button below.\n\u001b[0;31m---------------------------------------------------------------------------\u001b[0m\n"
          ],
          "errorDetails": {
            "actions": [
              {
                "action": "open_url",
                "actionText": "Open Examples",
                "url": "/notebooks/snippets/importing_libraries.ipynb"
              }
            ]
          }
        }
      ]
    },
    {
      "cell_type": "code",
      "source": [
        "#κατέβασμα και η του συνόλου δεδομένων\n",
        "#συνάρτηση εισαγωγής συνόλου δεδομένων\n",
        "def loadDataset():\n",
        "url = \"https://github.com/DSstratigou/DSstratigou/blob/main/pcap_data.csv\"\n",
        "response = requests.get(url, stream=True)\n",
        "#compressed_file = BytesIO(response.content)\n",
        "#decompressed_file = gzip.GzipFile(fileobj=compressed_file)"
      ],
      "metadata": {
        "id": "07y3VL-8PDjW"
      },
      "execution_count": null,
      "outputs": []
    },
    {
      "cell_type": "code",
      "source": [
        "#φόρτωση του συνόλου δεδομένων\n",
        "\n",
        "df = pd.read_csv(url, header=None)"
      ],
      "metadata": {
        "id": "5NCv2EysPiFm"
      },
      "execution_count": null,
      "outputs": []
    },
    {
      "cell_type": "code",
      "source": [
        "#δημιουργία του συνόλου σε δύο κλάσεις Normal (0) και Attack (1)\n",
        "X = df.drop(\"target\", axis=1)\n",
        "y = df[\"target\"].apply(lambda x: 0 if x == \"normal.\" else 1)"
      ],
      "metadata": {
        "id": "nLtu8m28QCB1"
      },
      "execution_count": null,
      "outputs": []
    },
    {
      "cell_type": "code",
      "source": [
        "#έλεγχος κλάσεων\n",
        "print(\"Κατανομή κλάσεων y:\")\n",
        "print(y.value_counts())"
      ],
      "metadata": {
        "id": "E09bHcorQF55"
      },
      "execution_count": null,
      "outputs": []
    },
    {
      "cell_type": "code",
      "source": [
        "#εντοπισμός κατηγορικών μεταβλητών\n",
        "categorical_features = ['protocol_type', 'service', 'flag']"
      ],
      "metadata": {
        "id": "xyo03qU6QFvf"
      },
      "execution_count": null,
      "outputs": []
    },
    {
      "cell_type": "code",
      "source": [
        "#διαχωρισμός κατηγορικών και αριθμητικών μεταβλητών\n",
        "numeric_features = X.columns.difference(categorical_features)"
      ],
      "metadata": {
        "id": "YvU0B_Z1QJLl"
      },
      "execution_count": null,
      "outputs": []
    },
    {
      "cell_type": "code",
      "source": [
        "#δημιουργία διοχέτευσης (αγωγού) προεπεξεργασίας με κωδικοποίηση μίας δέσμης (one-hot encoding) για κατηγορικές μεταβλητές\n",
        "preprocessor = ColumnTransformer(\n",
        "    transformers=[\n",
        "        ('num', StandardScaler(), numeric_features),\n",
        "        ('cat', OneHotEncoder(handle_unknown='ignore'), categorical_features)\n",
        "    ])"
      ],
      "metadata": {
        "id": "vgyaHeLfQOG8"
      },
      "execution_count": null,
      "outputs": []
    },
    {
      "cell_type": "code",
      "source": [
        "#τμηματοποίηση δεδομένων σε σύνολα εκαπίδευσης και δοκιμών\n",
        "X_train, X_test, y_train, y_test = train_test_split(X, y, test_size=0.3, random_state=42)"
      ],
      "metadata": {
        "id": "JCvRxmcKQOr3"
      },
      "execution_count": null,
      "outputs": []
    },
    {
      "cell_type": "code",
      "source": [
        "#δημιουργία διοχέτευσης (αγωγού) SMOTE για τις αριθμητικές μεταβλητές μόνο\n",
        "pipeline = ImbPipeline([\n",
        "    ('preprocessor', preprocessor),\n",
        "    ('smote', SMOTENC(random_state=42, categorical_features=[X.columns.get_loc(col) for col in categorical_features])),\n",
        "    ('classifier', RandomForestClassifier(random_state=42))\n",
        "])"
      ],
      "metadata": {
        "id": "9CvgBAmwQSYG"
      },
      "execution_count": null,
      "outputs": []
    },
    {
      "cell_type": "code",
      "source": [
        "#καθορισμός κατωφλίου (threshold) για την διακοπή διακτυακής κίνησης\n",
        "blocking_threshold = 0.9"
      ],
      "metadata": {
        "id": "B099hrhLQUZF"
      },
      "execution_count": null,
      "outputs": []
    },
    {
      "cell_type": "code",
      "source": [
        "#δημιουργία βρόχου συνεχούς - αυξητικής μάθησης\n",
        "batch_size = 10000\n",
        "for epoch in range(1, 3):  #δυνατότητα αλλαγής των εποχών\n",
        "    for i in range(0, len(X_train), batch_size):\n",
        "        X_batch = X_train.iloc[i:i + batch_size]\n",
        "        y_batch = y_train.iloc[i:i + batch_size]\n",
        "\n",
        "        #σταδιακή ενημέρωση του μοντέλου με κάθε ροή (batch) δεδομένων\n",
        "        pipeline.fit(X_batch, y_batch)\n",
        "\n",
        "        #περιοδική ενημέρωση του μοντέλου στο σύνολο δοκιμών\n",
        "        if i % batch_size == 0 and i > 0:\n",
        "            y_pred_proba = pipeline.predict_proba(X_test)[:, 1]\n",
        "\n",
        "            #αποκλεισμός δικτυακής κυκλοφορίας εάν η προβλεπόμενη πιθανότητα υπερβαίνει το καθορισμένο όριο\n",
        "            blocked_indices = np.where(y_pred_proba > blocking_threshold)[0]\n",
        "            if len(blocked_indices) > 0:\n",
        "                print(f\"Blocking {len(blocked_indices)} malicious traffic instances.\")\n",
        "\n",
        "            accuracy = accuracy_score(y_test, y_pred_proba > blocking_threshold)\n",
        "            print(f\"Epoch {epoch}, Iteration {i}, Test Accuracy: {accuracy}\")"
      ],
      "metadata": {
        "id": "NRz2Nv3DQW_J"
      },
      "execution_count": null,
      "outputs": []
    },
    {
      "cell_type": "code",
      "source": [
        "#τελική αξιολόγηση του μοντέλου στο σύνολο δοκιμών\n",
        "y_pred_proba = pipeline.predict_proba(X_test)[:, 1]\n",
        "blocked_indices = np.where(y_pred_proba > blocking_threshold)[0]\n",
        "if len(blocked_indices) > 0:\n",
        "    print(f\"Blocking {len(blocked_indices)} malicious traffic instances.\")\n",
        "\n",
        "accuracy = accuracy_score(y_test, y_pred_proba > blocking_threshold)\n",
        "classification_rep = classification_report(y_test, y_pred_proba > blocking_threshold)\n",
        "\n",
        "#εκτύπωση τελικών αποτελεσμάτων\n",
        "print(f\"Final Test Accuracy: {accuracy}\")\n",
        "print(\"Classification Report:\")\n",
        "print(classification_rep)"
      ],
      "metadata": {
        "id": "5rYdtNywQZ_W"
      },
      "execution_count": null,
      "outputs": []
    }
  ]
}